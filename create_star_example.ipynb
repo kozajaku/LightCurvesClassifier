{
 "cells": [
  {
   "cell_type": "code",
   "execution_count": 1,
   "metadata": {
    "collapsed": true
   },
   "outputs": [],
   "source": [
    "import numpy as np\n",
    "\n",
    "from lcc.entities.star import Star\n",
    "from lcc.utils.stars import saveStars"
   ]
  },
  {
   "cell_type": "code",
   "execution_count": 2,
   "metadata": {
    "collapsed": true
   },
   "outputs": [],
   "source": [
    "## Preparation of data of the star\n",
    "# Name of the star\n",
    "star_name = \"LMC_SC_1_1\"\n",
    "\n",
    "# Identifier of the star (names of the same object in different databases)\n",
    "# In our example no counterpart in other catalogs is know so just one entry is saved\n",
    "# \"db_ident\" key is query dict which can be used to query the object in particular databases\n",
    "ident = {\"OgleII\" : {\"name\" : \"LMC_SC_1_1\",\n",
    "                     \"db_ident\" : {\"field_num\" : 1,\n",
    "                                   \"starid\" : 1,\n",
    "                                   \"target\" : \"lmc\"}}}\n",
    "\n",
    "# Coordinates of the star in degrees. Also it can be astropy SkyCoord object\n",
    "coordinates = (83.2372045, -70.55790)\n",
    "         \n",
    "# All other information about the object\n",
    "# This values are just demonstrative (not real)\n",
    "other_info = {\"b_mag\" : 14.28,\n",
    "             \"i_mag\" : 13.54,\n",
    "             \"mass_sun\" : 1.12,\n",
    "             \"distance_pc\" : 346.12,\n",
    "             \"period_days\" : 16.57}\n",
    "\n",
    "# Light curve created from from 3 arrays (list or other iterable)\n",
    "time = np.linspace(1, 200, 20)\n",
    "mag = np.sin(time)\n",
    "error = np.random.random_sample(20)"
   ]
  },
  {
   "cell_type": "code",
   "execution_count": 3,
   "metadata": {
    "scrolled": true
   },
   "outputs": [],
   "source": [
    "# Create Star object\n",
    "star = Star(name=star_name, ident=ident, coo=coordinates, more=other_info)\n",
    "\n",
    "# Put light curve into the star object\n",
    "star.putLightCurve([time, mag, error])"
   ]
  },
  {
   "cell_type": "code",
   "execution_count": 4,
   "metadata": {
    "scrolled": true
   },
   "outputs": [
    {
     "name": "stdout",
     "output_type": "stream",
     "text": [
      "OgleII identifier:\tname: LMC_SC_1_1\tdb_ident: {'starid': 1, 'field_num': 1, 'target': 'lmc'}\t\n",
      "\tCoordinate: 05h32m56.9291s -70d33m28.44s\n",
      "Time\tMag\tErr\n",
      "-------------------\n",
      "1.00\t0.84\t0.10\n",
      "11.47\t-0.89\t0.46\n",
      "21.95\t0.04\t0.56\n",
      "32.42\t0.84\t0.29\n",
      "42.89\t-0.89\t0.62\n",
      "53.37\t0.04\t0.80\n",
      "63.84\t0.85\t0.63\n",
      "74.32\t-0.88\t0.19\n",
      "84.79\t0.03\t0.01\n",
      "95.26\t0.85\t0.17\n",
      "105.74\t-0.88\t0.66\n",
      "116.21\t0.03\t0.59\n",
      "126.68\t0.85\t0.91\n",
      "137.16\t-0.88\t0.52\n",
      "147.63\t0.02\t0.29\n",
      "158.11\t0.85\t0.46\n",
      "168.58\t-0.88\t0.36\n",
      "179.05\t0.02\t0.34\n",
      "189.53\t0.86\t0.68\n",
      "200.00\t-0.87\t0.08\n",
      "\n"
     ]
    }
   ],
   "source": [
    "# Show star\n",
    "print star\n",
    "\n",
    "# Show light curve\n",
    "print star.lightCurve\n",
    "\n",
    "# Light curve attributes can be acessed by \"time\", \"mag\", \"err\" attributes\n",
    "# such as st.lightCurve.mag"
   ]
  },
  {
   "cell_type": "code",
   "execution_count": 5,
   "metadata": {},
   "outputs": [
    {
     "name": "stderr",
     "output_type": "stream",
     "text": [
      "/usr/local/lib/python2.7/dist-packages/lcc/db_tier/connectors/file_manager.py:389: PyfitsDeprecationWarning: The new_table function is deprecated as of version 3.3 and may be removed in a future version.\n",
      "\n",
      "        Use :meth:`BinTableHDU.from_columns` for new BINARY tables or :meth:`TableHDU.from_columns` for new ASCII tables instead.\n",
      "  lc_hdu = pyfits.new_table(pyfits.ColDefs([col1, col2, col3]))\n",
      "/usr/local/lib/python2.7/dist-packages/pyfits/file.py:372: UserWarning: Overwriting existing file '/tmp/LMC_SC_1_1.fits'.\n",
      "  warnings.warn(\"Overwriting existing file %r.\" % self.name)\n"
     ]
    },
    {
     "data": {
      "text/plain": [
       "['LMC_SC_1_1']"
      ]
     },
     "execution_count": 5,
     "metadata": {},
     "output_type": "execute_result"
    }
   ],
   "source": [
    "# List of Star object can be saved as fits files\n",
    "# File is saved in /tmp folder with name according to \"name\" attribute. In our example it is \"LMC_SC_1_1.fits\".\n",
    "saveStars([star], \"/tmp\")"
   ]
  }
 ],
 "metadata": {
  "kernelspec": {
   "display_name": "Python 2",
   "language": "python",
   "name": "python2"
  },
  "language_info": {
   "codemirror_mode": {
    "name": "ipython",
    "version": 2
   },
   "file_extension": ".py",
   "mimetype": "text/x-python",
   "name": "python",
   "nbconvert_exporter": "python",
   "pygments_lexer": "ipython2",
   "version": "2.7.12"
  }
 },
 "nbformat": 4,
 "nbformat_minor": 2
}
