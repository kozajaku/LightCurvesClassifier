{
 "cells": [
  {
   "cell_type": "code",
   "execution_count": 1,
   "metadata": {
    "collapsed": true
   },
   "outputs": [],
   "source": [
    "import sys, os\n",
    "# sys.path.insert(0, \"/home/martin/workspace/LightCurvesClassifier/LightCurvesClassifier\")\n",
    "import pandas as pd\n",
    "\n",
    "\n",
    "from lcc.db_tier.stars_provider import StarsProvider\n",
    "from lcc.stars_processing.tools.params_estim import ParamsEstimator\n",
    "from lcc.api.input_parse import parse_tun_query\n",
    "from lcc.utils.helpers import  get_combinations\n",
    "from lcc.data_manager.package_reader import PackageReader\n",
    "from lcc.stars_processing.systematic_search.stars_searcher import StarsSearcher\n",
    "from lcc.stars_processing.tools.visualization import plotProbabSpace"
   ]
  },
  {
   "cell_type": "code",
   "execution_count": 2,
   "metadata": {
    "collapsed": true
   },
   "outputs": [],
   "source": [
    "# The query #\n",
    "#=============\n",
    "\n",
    "# Descriptor and decider\n",
    "descr_name1 = \"AbbeValueDescr\"\n",
    "descr_name2 = \"VariogramSlopeDescr\"\n",
    "decid_name = \"GaussianNBDec\"\n",
    "\n",
    "\n",
    "# Tunning parameters\n",
    "tun_param1 = \"bins\"\n",
    "bin_from = 10\n",
    "bin_to = 150\n",
    "bin_step = 50\n",
    "\n",
    "tun_param2 = \"days_per_bin\"\n",
    "dpb_from = 30\n",
    "dpb_to = 110\n",
    "dpb_step = 10\n",
    "\n",
    "\n",
    "# Loading training stars\n",
    "LCS_PATH = \"/home/martin/workspace/LightCurvesClassifier/data/project/inp_lcs\"\n",
    "obt_method = \"FileManager\"\n",
    "quasars_path = os.path.join(LCS_PATH, \"quasars\")\n",
    "stars_path = os.path.join(LCS_PATH, \"some_stars\")\n",
    "\n",
    "# Query for OgleII\n",
    "db_name = \"OgleII\"\n",
    "starid_from = 1\n",
    "starid_to = 10\n",
    "field_num_from = 1\n",
    "field_num_to = 2\n",
    "target = \"lmc\""
   ]
  },
  {
   "cell_type": "code",
   "execution_count": 3,
   "metadata": {
    "scrolled": false
   },
   "outputs": [
    {
     "name": "stderr",
     "output_type": "stream",
     "text": [
      "INFO:root:No fast networks available: No module named arac.pybrainbridge\n"
     ]
    },
    {
     "name": "stdout",
     "output_type": "stream",
     "text": [
      "Loading dat files:[############################################################] 44/44\n",
      "Loading dat files:[############################################################] 237/237\n"
     ]
    }
   ],
   "source": [
    "# Prepare for tuning\n",
    "abbe_descr = PackageReader().getClassesDict(\"descriptors\").get(descr_name1)\n",
    "vario_slope_descr = PackageReader().getClassesDict(\"descriptors\").get(descr_name2)\n",
    "decider = PackageReader().getClassesDict(\"deciders\").get(decid_name)\n",
    "\n",
    "\n",
    "combinations = get_combinations([\":\".join([descr_name1, tun_param1]), \":\".join([descr_name2, tun_param2])],\n",
    "                                 range(bin_from, bin_to, bin_step), range(dpb_from, dpb_to, dpb_step))\n",
    "tun_params = parse_tun_query(combinations)\n",
    "\n",
    "quasars = StarsProvider.getProvider(obt_method, {\"path\" : quasars_path}).getStars()\n",
    "stars = StarsProvider.getProvider(obt_method, {\"path\" : stars_path}).getStars()"
   ]
  },
  {
   "cell_type": "code",
   "execution_count": 6,
   "metadata": {
    "scrolled": true
   },
   "outputs": [
    {
     "name": "stderr",
     "output_type": "stream",
     "text": [
      "All 24 combinations have been evaluated"
     ]
    }
   ],
   "source": [
    "# Estimate all combinations and get the best one\n",
    "es = ParamsEstimator(searched=quasars,\n",
    "                     others=stars,\n",
    "                     descriptors=[abbe_descr, vario_slope_descr],\n",
    "                     deciders=[decider],\n",
    "                     tuned_params=tun_params)\n",
    "\n",
    "star_filter, best_stats, best_params = es.fit()"
   ]
  },
  {
   "cell_type": "code",
   "execution_count": 7,
   "metadata": {},
   "outputs": [
    {
     "data": {
      "text/plain": [
       "[1.0, 1.0, 1.0, 1.0, 1.0, 1.0, 1.0, 1.0, 1.0, 1.0]"
      ]
     },
     "execution_count": 7,
     "metadata": {},
     "output_type": "execute_result"
    }
   ],
   "source": [
    "star_filter.evaluateStars(quasars[:10])"
   ]
  },
  {
   "cell_type": "code",
   "execution_count": null,
   "metadata": {},
   "outputs": [
    {
     "data": {
      "text/html": [
       "<div>\n",
       "<style>\n",
       "    .dataframe thead tr:only-child th {\n",
       "        text-align: right;\n",
       "    }\n",
       "\n",
       "    .dataframe thead th {\n",
       "        text-align: left;\n",
       "    }\n",
       "\n",
       "    .dataframe tbody tr th {\n",
       "        vertical-align: top;\n",
       "    }\n",
       "</style>\n",
       "<table border=\"1\" class=\"dataframe\">\n",
       "  <thead>\n",
       "    <tr style=\"text-align: right;\">\n",
       "      <th></th>\n",
       "      <th>Abbe value</th>\n",
       "      <th>Light curve's variogram slope</th>\n",
       "    </tr>\n",
       "  </thead>\n",
       "  <tbody>\n",
       "    <tr>\n",
       "      <th>LMC_SC586317</th>\n",
       "      <td>0.168439</td>\n",
       "      <td>0.925078</td>\n",
       "    </tr>\n",
       "    <tr>\n",
       "      <th>LMC_SC7346891</th>\n",
       "      <td>0.546002</td>\n",
       "      <td>0.998490</td>\n",
       "    </tr>\n",
       "    <tr>\n",
       "      <th>LMC_SC21116867</th>\n",
       "      <td>0.156445</td>\n",
       "      <td>1.674246</td>\n",
       "    </tr>\n",
       "    <tr>\n",
       "      <th>SMC_SC4146087</th>\n",
       "      <td>0.305307</td>\n",
       "      <td>1.952205</td>\n",
       "    </tr>\n",
       "    <tr>\n",
       "      <th>LMC_SC19252805</th>\n",
       "      <td>0.411018</td>\n",
       "      <td>0.967198</td>\n",
       "    </tr>\n",
       "  </tbody>\n",
       "</table>\n",
       "</div>"
      ],
      "text/plain": [
       "                Abbe value  Light curve's variogram slope\n",
       "LMC_SC586317      0.168439                       0.925078\n",
       "LMC_SC7346891     0.546002                       0.998490\n",
       "LMC_SC21116867    0.156445                       1.674246\n",
       "SMC_SC4146087     0.305307                       1.952205\n",
       "LMC_SC19252805    0.411018                       0.967198"
      ]
     },
     "execution_count": 8,
     "metadata": {},
     "output_type": "execute_result"
    }
   ],
   "source": [
    "star_filter.searched_coords.head()"
   ]
  },
  {
   "cell_type": "code",
   "execution_count": null,
   "metadata": {
    "scrolled": true
   },
   "outputs": [],
   "source": [
    "plotProbabSpace(star_filter)"
   ]
  },
  {
   "cell_type": "code",
   "execution_count": null,
   "metadata": {},
   "outputs": [],
   "source": [
    "from lcc.utils.output_process_modules import saveIntoFile, loadFromFile\n",
    "saveIntoFile(star_filter, \"/tmp\", \"my_filter.obj\")"
   ]
  },
  {
   "cell_type": "code",
   "execution_count": null,
   "metadata": {
    "collapsed": true
   },
   "outputs": [],
   "source": [
    "my_filter = loadFromFile(\"/tmp/my_filter.obj\")"
   ]
  },
  {
   "cell_type": "code",
   "execution_count": null,
   "metadata": {},
   "outputs": [],
   "source": [
    "star_filter.searched_coords"
   ]
  },
  {
   "cell_type": "code",
   "execution_count": null,
   "metadata": {
    "scrolled": true
   },
   "outputs": [],
   "source": [
    "# Prepare queries and run systematic search by using the filter\n",
    "queries = get_combinations([\"starid\", \"field_num\", \"target\"],\n",
    "                           range(starid_from, starid_to),\n",
    "                           range(field_num_from, field_num_to),\n",
    "                           [target])\n",
    "\n",
    "searcher = StarsSearcher([star_filter],\n",
    "                         obth_method=db_name)\n",
    "searcher.queryStars(queries)\n",
    "\n",
    "passed_stars = searcher.passed_stars"
   ]
  },
  {
   "cell_type": "code",
   "execution_count": null,
   "metadata": {
    "scrolled": false
   },
   "outputs": [],
   "source": [
    "print \"All parameters (the best is %i):\\n\\n%s\\n\\n\" % (es.best_id, pd.DataFrame(es.stats))\n",
    "print \"Searching result (passed %i from %i) \\n\\n%s\" % (len(passed_stars), len(searcher.status),searcher.status)"
   ]
  },
  {
   "cell_type": "code",
   "execution_count": null,
   "metadata": {
    "scrolled": true
   },
   "outputs": [],
   "source": [
    "from lcc.utils.stars import saveStars\n",
    "saveStars(quasars[:5], \"/tmp\")"
   ]
  },
  {
   "cell_type": "code",
   "execution_count": null,
   "metadata": {},
   "outputs": [],
   "source": [
    "quasars[0].lightCurve.meta"
   ]
  }
 ],
 "metadata": {
  "kernelspec": {
   "display_name": "Python 2",
   "language": "python",
   "name": "python2"
  },
  "language_info": {
   "codemirror_mode": {
    "name": "ipython",
    "version": 2
   },
   "file_extension": ".py",
   "mimetype": "text/x-python",
   "name": "python",
   "nbconvert_exporter": "python",
   "pygments_lexer": "ipython2",
   "version": "2.7.12"
  }
 },
 "nbformat": 4,
 "nbformat_minor": 1
}
